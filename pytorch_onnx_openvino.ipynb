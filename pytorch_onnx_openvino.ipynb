{
 "cells": [
  {
   "cell_type": "code",
   "execution_count": 1,
   "metadata": {},
   "outputs": [],
   "source": [
    "import numpy as np\n",
    "from torchvision.models.resnet import resnet18\n",
    "from torchvision.models.resnet import resnet34\n",
    "from torchvision.models.resnet import resnet50\n",
    "from torchvision.models.resnet import resnet101\n",
    "from torchvision.models.resnet import resnet152\n",
    "\n",
    "import torchvision.transforms as transforms\n",
    "from PIL import Image\n",
    "import torch\n",
    "\n",
    "# 'resnet18': 'https://download.pytorch.org/models/resnet18-5c106cde.pth',\n",
    "# 'resnet34': 'https://download.pytorch.org/models/resnet34-333f7ec4.pth',\n",
    "# 'resnet50': 'https://download.pytorch.org/models/resnet50-19c8e357.pth',\n",
    "# 'resnet101': 'https://download.pytorch.org/models/resnet101-5d3b4d8f.pth',\n",
    "# 'resnet152': 'https://download.pytorch.org/models/resnet152-b121ed2d.pth',\n"
   ]
  },
  {
   "cell_type": "markdown",
   "metadata": {},
   "source": [
    "# Resize and normalize input"
   ]
  },
  {
   "cell_type": "markdown",
   "metadata": {},
   "source": [
    "Calculate normalization parameters ( see https://github.com/ngeorgis/pytorch_onnx_openvino/issues/1 )"
   ]
  },
  {
   "cell_type": "code",
   "execution_count": 2,
   "metadata": {},
   "outputs": [],
   "source": [
    "cifar_mean   = (0.4914, 0.4822, 0.4465)\n",
    "cifar_std    = (0.2023, 0.1994, 0.2010)"
   ]
  },
  {
   "cell_type": "code",
   "execution_count": 3,
   "metadata": {},
   "outputs": [],
   "source": [
    "# use this based on \n",
    "# https://pytorch.org/docs/stable/torchvision/models.html\n",
    "# and https://github.com/pytorch/examples/blob/42e5b996718797e45c46a25c55b031e6768f8440/imagenet/main.py#L89-L101\n",
    "# also see https://github.com/pytorch/vision/issues/39\n",
    "\n",
    "imagenet_mean = (0.485, 0.456, 0.406)\n",
    "imagenet_std  = (0.229, 0.224, 0.225)"
   ]
  },
  {
   "cell_type": "code",
   "execution_count": 4,
   "metadata": {},
   "outputs": [],
   "source": [
    "transform = transforms.Compose([\n",
    "    transforms.Resize(256),\n",
    "    transforms.CenterCrop(224),\n",
    "    transforms.ToTensor(),\n",
    "    transforms.Normalize(imagenet_mean, imagenet_std),\n",
    "])"
   ]
  },
  {
   "cell_type": "markdown",
   "metadata": {},
   "source": [
    "For CIFAR10 use this scale and mean for OpenVino model optimizer"
   ]
  },
  {
   "cell_type": "code",
   "execution_count": 5,
   "metadata": {},
   "outputs": [
    {
     "name": "stdout",
     "output_type": "stream",
     "text": [
      "--scale_values=[51.5865,50.847,51.255] --mean_values=[125.307,122.961,113.8575]\n"
     ]
    }
   ],
   "source": [
    "print(\"--scale_values=[\",cifar_std[0]*255,\",\",cifar_std[1]*255,\",\",cifar_std[2]*255,\"] \",\n",
    "      \"--mean_values=[\",cifar_mean[0]*255,\",\",cifar_mean[1]*255,\",\",cifar_mean[2]*255,\"]\", sep=\"\")"
   ]
  },
  {
   "cell_type": "markdown",
   "metadata": {},
   "source": [
    "For IMAGENET use this scale and mean for OpenVino model optimizer"
   ]
  },
  {
   "cell_type": "code",
   "execution_count": 6,
   "metadata": {},
   "outputs": [
    {
     "name": "stdout",
     "output_type": "stream",
     "text": [
      "--scale_values=[58.395,57.120000000000005,57.375] --mean_values=[123.675,116.28,103.53]\n"
     ]
    }
   ],
   "source": [
    "print(\"--scale_values=[\",imagenet_std[0]*255,\",\",imagenet_std[1]*255,\",\",imagenet_std[2]*255,\"] \",\n",
    "      \"--mean_values=[\",imagenet_mean[0]*255,\",\",imagenet_mean[1]*255,\",\",imagenet_mean[2]*255,\"]\", sep=\"\")"
   ]
  },
  {
   "cell_type": "code",
   "execution_count": 7,
   "metadata": {},
   "outputs": [],
   "source": [
    "\n",
    "transform_test_IMAGENET = transforms.Compose([\n",
    "    transforms.Resize(256),\n",
    "    transforms.CenterCrop(224),\n",
    "    transforms.ToTensor(),\n",
    "    transforms.Normalize((0.485, 0.456, 0.406), (0.229, 0.224, 0.225)),\n",
    "])"
   ]
  },
  {
   "cell_type": "code",
   "execution_count": 8,
   "metadata": {},
   "outputs": [],
   "source": [
    "transform_test = transform_test_IMAGENET"
   ]
  },
  {
   "cell_type": "markdown",
   "metadata": {},
   "source": [
    "# First test ResNet50 in PyTorch"
   ]
  },
  {
   "cell_type": "code",
   "execution_count": 9,
   "metadata": {},
   "outputs": [],
   "source": [
    "net18 = resnet18(pretrained=True)\n",
    "net34 = resnet34(pretrained=True)\n",
    "net50 = resnet50(pretrained=True)\n",
    "net101 = resnet101(pretrained=True)\n",
    "net152 = resnet152(pretrained=True)\n",
    "\n",
    "# set test mode for inference\n",
    "net18.eval()\n",
    "net34.eval()\n",
    "net50.eval()\n",
    "net101.eval()\n",
    "net152.eval()\n",
    "\n",
    "im = Image.open('dog.jpeg')\n",
    "x = transform_test(im)\n",
    "x = x.unsqueeze(dim=0)"
   ]
  },
  {
   "cell_type": "markdown",
   "metadata": {},
   "source": [
    "![alt text](dog.jpeg \"Dog test image\")"
   ]
  },
  {
   "cell_type": "markdown",
   "metadata": {},
   "source": [
    "# Save the input vector so that we can use it for OpenVino tests"
   ]
  },
  {
   "cell_type": "code",
   "execution_count": 10,
   "metadata": {},
   "outputs": [
    {
     "name": "stdout",
     "output_type": "stream",
     "text": [
      "torch.Size([1, 3, 224, 224])\n",
      "-rw-rw-r-- 1 ngeorgis ngeorgis 602240 Jan 27 18:49 test_in_vector.npy\r\n"
     ]
    }
   ],
   "source": [
    "print (x.shape)\n",
    "np.save(\"test_in_vector\", x)\n",
    "\n",
    "!ls -l test_in_vector.npy"
   ]
  },
  {
   "cell_type": "markdown",
   "metadata": {},
   "source": [
    "# Run inference "
   ]
  },
  {
   "cell_type": "code",
   "execution_count": 11,
   "metadata": {},
   "outputs": [
    {
     "data": {
      "text/plain": [
       "torch.Size([1000])"
      ]
     },
     "execution_count": 11,
     "metadata": {},
     "output_type": "execute_result"
    }
   ],
   "source": [
    "res50 = net50(x)[0]\n",
    "res50.shape"
   ]
  },
  {
   "cell_type": "code",
   "execution_count": 12,
   "metadata": {},
   "outputs": [
    {
     "name": "stdout",
     "output_type": "stream",
     "text": [
      "First ten output values:  tensor([ 1.4262, -2.8766, -2.2015, -1.2191, -3.0898, -1.4179, -4.3596,  0.9693,\n",
      "         0.8332,  0.4352], grad_fn=<SliceBackward>)\n"
     ]
    }
   ],
   "source": [
    "print (\"First ten output values: \", net50(x)[0][0:10])"
   ]
  },
  {
   "cell_type": "code",
   "execution_count": 13,
   "metadata": {},
   "outputs": [
    {
     "name": "stdout",
     "output_type": "stream",
     "text": [
      "tensor(235)\n"
     ]
    }
   ],
   "source": [
    "values, indices = res50.max(0)\n",
    "print (indices)"
   ]
  },
  {
   "cell_type": "code",
   "execution_count": 14,
   "metadata": {},
   "outputs": [
    {
     "name": "stdout",
     "output_type": "stream",
     "text": [
      "tensor([14.0807, 11.5884, 11.1329,  9.3868,  8.8371,  8.8061,  8.4025,  7.9561,\n",
      "         7.9554,  7.9356], grad_fn=<TopkBackward>)\n",
      "tensor([235, 225, 255, 275, 160, 174, 224, 244, 170, 227])\n"
     ]
    }
   ],
   "source": [
    "values, indices = torch.topk(res50, 10)\n",
    "print (values)\n",
    "print (indices)"
   ]
  },
  {
   "cell_type": "code",
   "execution_count": 15,
   "metadata": {},
   "outputs": [],
   "source": [
    "number_top = 10"
   ]
  },
  {
   "cell_type": "code",
   "execution_count": 16,
   "metadata": {},
   "outputs": [
    {
     "name": "stdout",
     "output_type": "stream",
     "text": [
      "['n01440764_tench,_Tinca_tinca', 'n01443537_goldfish,_Carassius_auratus', 'n01484850_great_white_shark,_white_shark,_man-eater,_man-eating_shark,_Carcharodon_carcharias', 'n01491361_tiger_shark,_Galeocerdo_cuvieri', 'n01494475_hammerhead,_hammerhead_shark', 'n01496331_electric_ray,_crampfish,_numbfish,_torpedo', 'n01498041_stingray', 'n01514668_cock', 'n01514859_hen', 'n01518878_ostrich,_Struthio_camelus', 'n01530575_brambling,_Fringilla_montifringilla', 'n01531178_goldfinch,_Carduelis_carduelis', 'n01532829_house_finch,_linnet,_Carpodacus_mexicanus', 'n01534433_junco,_snowbird', 'n01537544_indigo_bunting,_indigo_finch,_indigo_bird,_Passerina_cyanea', 'n01558993_robin,_American_robin,_Turdus_migratorius', 'n01560419_bulbul', 'n01580077_jay', 'n01582220_magpie', 'n01592084_chickadee', 'n01601694_water_ouzel,_dipper', 'n01608432_kite', 'n01614925_bald_eagle,_American_eagle,_Haliaeetus_leucocephalus', 'n01616318_vulture', 'n01622779_great_grey_owl,_great_gray_owl,_Strix_nebulosa', 'n01629819_European_fire_salamander,_Salamandra_salamandra', 'n01630670_common_newt,_Triturus_vulgaris', 'n01631663_eft', 'n01632458_spotted_salamander,_Ambystoma_maculatum', 'n01632777_axolotl,_mud_puppy,_Ambystoma_mexicanum', 'n01641577_bullfrog,_Rana_catesbeiana', 'n01644373_tree_frog,_tree-frog', 'n01644900_tailed_frog,_bell_toad,_ribbed_toad,_tailed_toad,_Ascaphus_trui', 'n01664065_loggerhead,_loggerhead_turtle,_Caretta_caretta', 'n01665541_leatherback_turtle,_leatherback,_leathery_turtle,_Dermochelys_coriacea', 'n01667114_mud_turtle', 'n01667778_terrapin', 'n01669191_box_turtle,_box_tortoise', 'n01675722_banded_gecko', 'n01677366_common_iguana,_iguana,_Iguana_iguana', 'n01682714_American_chameleon,_anole,_Anolis_carolinensis', 'n01685808_whiptail,_whiptail_lizard', 'n01687978_agama', 'n01688243_frilled_lizard,_Chlamydosaurus_kingi', 'n01689811_alligator_lizard', 'n01692333_Gila_monster,_Heloderma_suspectum', 'n01693334_green_lizard,_Lacerta_viridis', 'n01694178_African_chameleon,_Chamaeleo_chamaeleon', 'n01695060_Komodo_dragon,_Komodo_lizard,_dragon_lizard,_giant_lizard,_Varanus_komodoensis', 'n01697457_African_crocodile,_Nile_crocodile,_Crocodylus_niloticus', 'n01698640_American_alligator,_Alligator_mississipiensis', 'n01704323_triceratops', 'n01728572_thunder_snake,_worm_snake,_Carphophis_amoenus', 'n01728920_ringneck_snake,_ring-necked_snake,_ring_snake', 'n01729322_hognose_snake,_puff_adder,_sand_viper', 'n01729977_green_snake,_grass_snake', 'n01734418_king_snake,_kingsnake', 'n01735189_garter_snake,_grass_snake', 'n01737021_water_snake', 'n01739381_vine_snake', 'n01740131_night_snake,_Hypsiglena_torquata', 'n01742172_boa_constrictor,_Constrictor_constrictor', 'n01744401_rock_python,_rock_snake,_Python_sebae', 'n01748264_Indian_cobra,_Naja_naja', 'n01749939_green_mamba', 'n01751748_sea_snake', 'n01753488_horned_viper,_cerastes,_sand_viper,_horned_asp,_Cerastes_cornutus', 'n01755581_diamondback,_diamondback_rattlesnake,_Crotalus_adamanteus', 'n01756291_sidewinder,_horned_rattlesnake,_Crotalus_cerastes', 'n01768244_trilobite', 'n01770081_harvestman,_daddy_longlegs,_Phalangium_opilio', 'n01770393_scorpion', 'n01773157_black_and_gold_garden_spider,_Argiope_aurantia', 'n01773549_barn_spider,_Araneus_cavaticus', 'n01773797_garden_spider,_Aranea_diademata', 'n01774384_black_widow,_Latrodectus_mactans', 'n01774750_tarantula', 'n01775062_wolf_spider,_hunting_spider', 'n01776313_tick', 'n01784675_centipede', 'n01795545_black_grouse', 'n01796340_ptarmigan', 'n01797886_ruffed_grouse,_partridge,_Bonasa_umbellus', 'n01798484_prairie_chicken,_prairie_grouse,_prairie_fowl', 'n01806143_peacock', 'n01806567_quail', 'n01807496_partridge', 'n01817953_African_grey,_African_gray,_Psittacus_erithacus', 'n01818515_macaw', 'n01819313_sulphur-crested_cockatoo,_Kakatoe_galerita,_Cacatua_galerita', 'n01820546_lorikeet', 'n01824575_coucal', 'n01828970_bee_eater', 'n01829413_hornbill', 'n01833805_hummingbird', 'n01843065_jacamar', 'n01843383_toucan', 'n01847000_drake', 'n01855032_red-breasted_merganser,_Mergus_serrator', 'n01855672_goose', 'n01860187_black_swan,_Cygnus_atratus', 'n01871265_tusker', 'n01872401_echidna,_spiny_anteater,_anteater', 'n01873310_platypus,_duckbill,_duckbilled_platypus,_duck-billed_platypus,_Ornithorhynchus_anatinus', 'n01877812_wallaby,_brush_kangaroo', 'n01882714_koala,_koala_bear,_kangaroo_bear,_native_bear,_Phascolarctos_cinereus', 'n01883070_wombat', 'n01910747_jellyfish', 'n01914609_sea_anemone,_anemone', 'n01917289_brain_coral', 'n01924916_flatworm,_platyhelminth', 'n01930112_nematode,_nematode_worm,_roundworm', 'n01943899_conch', 'n01944390_snail', 'n01945685_slug', 'n01950731_sea_slug,_nudibranch', 'n01955084_chiton,_coat-of-mail_shell,_sea_cradle,_polyplacophore', 'n01968897_chambered_nautilus,_pearly_nautilus,_nautilus', 'n01978287_Dungeness_crab,_Cancer_magister', 'n01978455_rock_crab,_Cancer_irroratus', 'n01980166_fiddler_crab', 'n01981276_king_crab,_Alaska_crab,_Alaskan_king_crab,_Alaska_king_crab,_Paralithodes_camtschatica', 'n01983481_American_lobster,_Northern_lobster,_Maine_lobster,_Homarus_americanus', 'n01984695_spiny_lobster,_langouste,_rock_lobster,_crawfish,_crayfish,_sea_crawfish', 'n01985128_crayfish,_crawfish,_crawdad,_crawdaddy', 'n01986214_hermit_crab', 'n01990800_isopod', 'n02002556_white_stork,_Ciconia_ciconia', 'n02002724_black_stork,_Ciconia_nigra', 'n02006656_spoonbill', 'n02007558_flamingo', 'n02009229_little_blue_heron,_Egretta_caerulea', 'n02009912_American_egret,_great_white_heron,_Egretta_albus', 'n02011460_bittern', 'n02012849_crane', 'n02013706_limpkin,_Aramus_pictus', 'n02017213_European_gallinule,_Porphyrio_porphyrio', 'n02018207_American_coot,_marsh_hen,_mud_hen,_water_hen,_Fulica_americana', 'n02018795_bustard', 'n02025239_ruddy_turnstone,_Arenaria_interpres', 'n02027492_red-backed_sandpiper,_dunlin,_Erolia_alpina', 'n02028035_redshank,_Tringa_totanus', 'n02033041_dowitcher', 'n02037110_oystercatcher,_oyster_catcher', 'n02051845_pelican', 'n02056570_king_penguin,_Aptenodytes_patagonica', 'n02058221_albatross,_mollymawk', 'n02066245_grey_whale,_gray_whale,_devilfish,_Eschrichtius_gibbosus,_Eschrichtius_robustus', 'n02071294_killer_whale,_killer,_orca,_grampus,_sea_wolf,_Orcinus_orca', 'n02074367_dugong,_Dugong_dugon', 'n02077923_sea_lion', 'n02085620_Chihuahua', 'n02085782_Japanese_spaniel', 'n02085936_Maltese_dog,_Maltese_terrier,_Maltese', 'n02086079_Pekinese,_Pekingese,_Peke', 'n02086240_Shih-Tzu', 'n02086646_Blenheim_spaniel', 'n02086910_papillon', 'n02087046_toy_terrier', 'n02087394_Rhodesian_ridgeback', 'n02088094_Afghan_hound,_Afghan', 'n02088238_basset,_basset_hound', 'n02088364_beagle', 'n02088466_bloodhound,_sleuthhound', 'n02088632_bluetick', 'n02089078_black-and-tan_coonhound', 'n02089867_Walker_hound,_Walker_foxhound', 'n02089973_English_foxhound', 'n02090379_redbone', 'n02090622_borzoi,_Russian_wolfhound', 'n02090721_Irish_wolfhound', 'n02091032_Italian_greyhound', 'n02091134_whippet', 'n02091244_Ibizan_hound,_Ibizan_Podenco', 'n02091467_Norwegian_elkhound,_elkhound', 'n02091635_otterhound,_otter_hound', 'n02091831_Saluki,_gazelle_hound', 'n02092002_Scottish_deerhound,_deerhound', 'n02092339_Weimaraner', 'n02093256_Staffordshire_bullterrier,_Staffordshire_bull_terrier', 'n02093428_American_Staffordshire_terrier,_Staffordshire_terrier,_American_pit_bull_terrier,_pit_bull_terrier', 'n02093647_Bedlington_terrier', 'n02093754_Border_terrier', 'n02093859_Kerry_blue_terrier', 'n02093991_Irish_terrier', 'n02094114_Norfolk_terrier', 'n02094258_Norwich_terrier', 'n02094433_Yorkshire_terrier', 'n02095314_wire-haired_fox_terrier', 'n02095570_Lakeland_terrier', 'n02095889_Sealyham_terrier,_Sealyham', 'n02096051_Airedale,_Airedale_terrier', 'n02096177_cairn,_cairn_terrier', 'n02096294_Australian_terrier', 'n02096437_Dandie_Dinmont,_Dandie_Dinmont_terrier', 'n02096585_Boston_bull,_Boston_terrier', 'n02097047_miniature_schnauzer', 'n02097130_giant_schnauzer', 'n02097209_standard_schnauzer', 'n02097298_Scotch_terrier,_Scottish_terrier,_Scottie', 'n02097474_Tibetan_terrier,_chrysanthemum_dog', 'n02097658_silky_terrier,_Sydney_silky', 'n02098105_soft-coated_wheaten_terrier', 'n02098286_West_Highland_white_terrier', 'n02098413_Lhasa,_Lhasa_apso', 'n02099267_flat-coated_retriever', 'n02099429_curly-coated_retriever', 'n02099601_golden_retriever', 'n02099712_Labrador_retriever', 'n02099849_Chesapeake_Bay_retriever', 'n02100236_German_short-haired_pointer', 'n02100583_vizsla,_Hungarian_pointer', 'n02100735_English_setter', 'n02100877_Irish_setter,_red_setter', 'n02101006_Gordon_setter', 'n02101388_Brittany_spaniel', 'n02101556_clumber,_clumber_spaniel', 'n02102040_English_springer,_English_springer_spaniel', 'n02102177_Welsh_springer_spaniel', 'n02102318_cocker_spaniel,_English_cocker_spaniel,_cocker', 'n02102480_Sussex_spaniel', 'n02102973_Irish_water_spaniel', 'n02104029_kuvasz', 'n02104365_schipperke', 'n02105056_groenendael', 'n02105162_malinois', 'n02105251_briard', 'n02105412_kelpie', 'n02105505_komondor', 'n02105641_Old_English_sheepdog,_bobtail', 'n02105855_Shetland_sheepdog,_Shetland_sheep_dog,_Shetland', 'n02106030_collie', 'n02106166_Border_collie', 'n02106382_Bouvier_des_Flandres,_Bouviers_des_Flandres', 'n02106550_Rottweiler', 'n02106662_German_shepherd,_German_shepherd_dog,_German_police_dog,_alsatian', 'n02107142_Doberman,_Doberman_pinscher', 'n02107312_miniature_pinscher', 'n02107574_Greater_Swiss_Mountain_dog', 'n02107683_Bernese_mountain_dog', 'n02107908_Appenzeller', 'n02108000_EntleBucher', 'n02108089_boxer', 'n02108422_bull_mastiff', 'n02108551_Tibetan_mastiff', 'n02108915_French_bulldog', 'n02109047_Great_Dane', 'n02109525_Saint_Bernard,_St_Bernard', 'n02109961_Eskimo_dog,_husky', 'n02110063_malamute,_malemute,_Alaskan_malamute', 'n02110185_Siberian_husky', 'n02110341_dalmatian,_coach_dog,_carriage_dog', 'n02110627_affenpinscher,_monkey_pinscher,_monkey_dog', 'n02110806_basenji', 'n02110958_pug,_pug-dog', 'n02111129_Leonberg', 'n02111277_Newfoundland,_Newfoundland_dog', 'n02111500_Great_Pyrenees', 'n02111889_Samoyed,_Samoyede', 'n02112018_Pomeranian', 'n02112137_chow,_chow_chow', 'n02112350_keeshond', 'n02112706_Brabancon_griffon', 'n02113023_Pembroke,_Pembroke_Welsh_corgi', 'n02113186_Cardigan,_Cardigan_Welsh_corgi', 'n02113624_toy_poodle', 'n02113712_miniature_poodle', 'n02113799_standard_poodle', 'n02113978_Mexican_hairless', 'n02114367_timber_wolf,_grey_wolf,_gray_wolf,_Canis_lupus', 'n02114548_white_wolf,_Arctic_wolf,_Canis_lupus_tundrarum', 'n02114712_red_wolf,_maned_wolf,_Canis_rufus,_Canis_niger', 'n02114855_coyote,_prairie_wolf,_brush_wolf,_Canis_latrans', 'n02115641_dingo,_warrigal,_warragal,_Canis_dingo', 'n02115913_dhole,_Cuon_alpinus', 'n02116738_African_hunting_dog,_hyena_dog,_Cape_hunting_dog,_Lycaon_pictus', 'n02117135_hyena,_hyaena', 'n02119022_red_fox,_Vulpes_vulpes', 'n02119789_kit_fox,_Vulpes_macrotis', 'n02120079_Arctic_fox,_white_fox,_Alopex_lagopus', 'n02120505_grey_fox,_gray_fox,_Urocyon_cinereoargenteus', 'n02123045_tabby,_tabby_cat', 'n02123159_tiger_cat', 'n02123394_Persian_cat', 'n02123597_Siamese_cat,_Siamese', 'n02124075_Egyptian_cat', 'n02125311_cougar,_puma,_catamount,_mountain_lion,_painter,_panther,_Felis_concolor', 'n02127052_lynx,_catamount', 'n02128385_leopard,_Panthera_pardus', 'n02128757_snow_leopard,_ounce,_Panthera_uncia', 'n02128925_jaguar,_panther,_Panthera_onca,_Felis_onca', 'n02129165_lion,_king_of_beasts,_Panthera_leo', 'n02129604_tiger,_Panthera_tigris', 'n02130308_cheetah,_chetah,_Acinonyx_jubatus', 'n02132136_brown_bear,_bruin,_Ursus_arctos', 'n02133161_American_black_bear,_black_bear,_Ursus_americanus,_Euarctos_americanus', 'n02134084_ice_bear,_polar_bear,_Ursus_Maritimus,_Thalarctos_maritimus', 'n02134418_sloth_bear,_Melursus_ursinus,_Ursus_ursinus', 'n02137549_mongoose', 'n02138441_meerkat,_mierkat', 'n02165105_tiger_beetle', 'n02165456_ladybug,_ladybeetle,_lady_beetle,_ladybird,_ladybird_beetle', 'n02167151_ground_beetle,_carabid_beetle', 'n02168699_long-horned_beetle,_longicorn,_longicorn_beetle', 'n02169497_leaf_beetle,_chrysomelid', 'n02172182_dung_beetle', 'n02174001_rhinoceros_beetle', 'n02177972_weevil', 'n02190166_fly', 'n02206856_bee', 'n02219486_ant,_emmet,_pismire', 'n02226429_grasshopper,_hopper', 'n02229544_cricket', 'n02231487_walking_stick,_walkingstick,_stick_insect', 'n02233338_cockroach,_roach', 'n02236044_mantis,_mantid', 'n02256656_cicada,_cicala', 'n02259212_leafhopper', 'n02264363_lacewing,_lacewing_fly', \"n02268443_dragonfly,_darning_needle,_devil's_darning_needle,_sewing_needle,_snake_feeder,_snake_doctor,_mosquito_hawk,_skeeter_hawk\", 'n02268853_damselfly', 'n02276258_admiral', 'n02277742_ringlet,_ringlet_butterfly', 'n02279972_monarch,_monarch_butterfly,_milkweed_butterfly,_Danaus_plexippus', 'n02280649_cabbage_butterfly', 'n02281406_sulphur_butterfly,_sulfur_butterfly', 'n02281787_lycaenid,_lycaenid_butterfly', 'n02317335_starfish,_sea_star', 'n02319095_sea_urchin', 'n02321529_sea_cucumber,_holothurian', 'n02325366_wood_rabbit,_cottontail,_cottontail_rabbit', 'n02326432_hare', 'n02328150_Angora,_Angora_rabbit', 'n02342885_hamster', 'n02346627_porcupine,_hedgehog', 'n02356798_fox_squirrel,_eastern_fox_squirrel,_Sciurus_niger', 'n02361337_marmot', 'n02363005_beaver', 'n02364673_guinea_pig,_Cavia_cobaya', 'n02389026_sorrel', 'n02391049_zebra', 'n02395406_hog,_pig,_grunter,_squealer,_Sus_scrofa', 'n02396427_wild_boar,_boar,_Sus_scrofa', 'n02397096_warthog', 'n02398521_hippopotamus,_hippo,_river_horse,_Hippopotamus_amphibius', 'n02403003_ox', 'n02408429_water_buffalo,_water_ox,_Asiatic_buffalo,_Bubalus_bubalis', 'n02410509_bison', 'n02412080_ram,_tup', 'n02415577_bighorn,_bighorn_sheep,_cimarron,_Rocky_Mountain_bighorn,_Rocky_Mountain_sheep,_Ovis_canadensis', 'n02417914_ibex,_Capra_ibex', 'n02422106_hartebeest', 'n02422699_impala,_Aepyceros_melampus', 'n02423022_gazelle', 'n02437312_Arabian_camel,_dromedary,_Camelus_dromedarius', 'n02437616_llama', 'n02441942_weasel', 'n02442845_mink', 'n02443114_polecat,_fitch,_foulmart,_foumart,_Mustela_putorius', 'n02443484_black-footed_ferret,_ferret,_Mustela_nigripes', 'n02444819_otter', 'n02445715_skunk,_polecat,_wood_pussy', 'n02447366_badger', 'n02454379_armadillo', 'n02457408_three-toed_sloth,_ai,_Bradypus_tridactylus', 'n02480495_orangutan,_orang,_orangutang,_Pongo_pygmaeus', 'n02480855_gorilla,_Gorilla_gorilla', 'n02481823_chimpanzee,_chimp,_Pan_troglodytes', 'n02483362_gibbon,_Hylobates_lar', 'n02483708_siamang,_Hylobates_syndactylus,_Symphalangus_syndactylus', 'n02484975_guenon,_guenon_monkey', 'n02486261_patas,_hussar_monkey,_Erythrocebus_patas', 'n02486410_baboon', 'n02487347_macaque', 'n02488291_langur', 'n02488702_colobus,_colobus_monkey', 'n02489166_proboscis_monkey,_Nasalis_larvatus', 'n02490219_marmoset', 'n02492035_capuchin,_ringtail,_Cebus_capucinus', 'n02492660_howler_monkey,_howler', 'n02493509_titi,_titi_monkey', 'n02493793_spider_monkey,_Ateles_geoffroyi', 'n02494079_squirrel_monkey,_Saimiri_sciureus', 'n02497673_Madagascar_cat,_ring-tailed_lemur,_Lemur_catta', 'n02500267_indri,_indris,_Indri_indri,_Indri_brevicaudatus', 'n02504013_Indian_elephant,_Elephas_maximus', 'n02504458_African_elephant,_Loxodonta_africana', 'n02509815_lesser_panda,_red_panda,_panda,_bear_cat,_cat_bear,_Ailurus_fulgens', 'n02510455_giant_panda,_panda,_panda_bear,_coon_bear,_Ailuropoda_melanoleuca', 'n02514041_barracouta,_snoek', 'n02526121_eel', 'n02536864_coho,_cohoe,_coho_salmon,_blue_jack,_silver_salmon,_Oncorhynchus_kisutch', 'n02606052_rock_beauty,_Holocanthus_tricolor', 'n02607072_anemone_fish', 'n02640242_sturgeon', 'n02641379_gar,_garfish,_garpike,_billfish,_Lepisosteus_osseus', 'n02643566_lionfish', 'n02655020_puffer,_pufferfish,_blowfish,_globefish', 'n02666196_abacus', 'n02667093_abaya', \"n02669723_academic_gown,_academic_robe,_judge's_robe\", 'n02672831_accordion,_piano_accordion,_squeeze_box', 'n02676566_acoustic_guitar', 'n02687172_aircraft_carrier,_carrier,_flattop,_attack_aircraft_carrier', 'n02690373_airliner', 'n02692877_airship,_dirigible', 'n02699494_altar', 'n02701002_ambulance', 'n02704792_amphibian,_amphibious_vehicle', 'n02708093_analog_clock', 'n02727426_apiary,_bee_house', 'n02730930_apron', 'n02747177_ashcan,_trash_can,_garbage_can,_wastebin,_ash_bin,_ash-bin,_ashbin,_dustbin,_trash_barrel,_trash_bin', 'n02749479_assault_rifle,_assault_gun', 'n02769748_backpack,_back_pack,_knapsack,_packsack,_rucksack,_haversack', 'n02776631_bakery,_bakeshop,_bakehouse', 'n02777292_balance_beam,_beam', 'n02782093_balloon', 'n02783161_ballpoint,_ballpoint_pen,_ballpen,_Biro', 'n02786058_Band_Aid', 'n02787622_banjo', 'n02788148_bannister,_banister,_balustrade,_balusters,_handrail', 'n02790996_barbell', 'n02791124_barber_chair', 'n02791270_barbershop', 'n02793495_barn', 'n02794156_barometer', 'n02795169_barrel,_cask', 'n02797295_barrow,_garden_cart,_lawn_cart,_wheelbarrow', 'n02799071_baseball', 'n02802426_basketball', 'n02804414_bassinet', 'n02804610_bassoon', 'n02807133_bathing_cap,_swimming_cap', 'n02808304_bath_towel', 'n02808440_bathtub,_bathing_tub,_bath,_tub', 'n02814533_beach_wagon,_station_wagon,_wagon,_estate_car,_beach_waggon,_station_waggon,_waggon', 'n02814860_beacon,_lighthouse,_beacon_light,_pharos', 'n02815834_beaker', 'n02817516_bearskin,_busby,_shako', 'n02823428_beer_bottle', 'n02823750_beer_glass', 'n02825657_bell_cote,_bell_cot', 'n02834397_bib', 'n02835271_bicycle-built-for-two,_tandem_bicycle,_tandem', 'n02837789_bikini,_two-piece', 'n02840245_binder,_ring-binder', 'n02841315_binoculars,_field_glasses,_opera_glasses', 'n02843684_birdhouse', 'n02859443_boathouse', 'n02860847_bobsled,_bobsleigh,_bob', 'n02865351_bolo_tie,_bolo,_bola_tie,_bola', 'n02869837_bonnet,_poke_bonnet', 'n02870880_bookcase', 'n02871525_bookshop,_bookstore,_bookstall', 'n02877765_bottlecap', 'n02879718_bow', 'n02883205_bow_tie,_bow-tie,_bowtie', 'n02892201_brass,_memorial_tablet,_plaque', 'n02892767_brassiere,_bra,_bandeau', 'n02894605_breakwater,_groin,_groyne,_mole,_bulwark,_seawall,_jetty', 'n02895154_breastplate,_aegis,_egis', 'n02906734_broom', 'n02909870_bucket,_pail', 'n02910353_buckle', 'n02916936_bulletproof_vest', 'n02917067_bullet_train,_bullet', 'n02927161_butcher_shop,_meat_market', 'n02930766_cab,_hack,_taxi,_taxicab', 'n02939185_caldron,_cauldron', 'n02948072_candle,_taper,_wax_light', 'n02950826_cannon', 'n02951358_canoe', 'n02951585_can_opener,_tin_opener', 'n02963159_cardigan', 'n02965783_car_mirror', 'n02966193_carousel,_carrousel,_merry-go-round,_roundabout,_whirligig', \"n02966687_carpenter's_kit,_tool_kit\", 'n02971356_carton', 'n02974003_car_wheel', 'n02977058_cash_machine,_cash_dispenser,_automated_teller_machine,_automatic_teller_machine,_automated_teller,_automatic_teller,_ATM', 'n02978881_cassette', 'n02979186_cassette_player', 'n02980441_castle', 'n02981792_catamaran', 'n02988304_CD_player', 'n02992211_cello,_violoncello', 'n02992529_cellular_telephone,_cellular_phone,_cellphone,_cell,_mobile_phone', 'n02999410_chain', 'n03000134_chainlink_fence', 'n03000247_chain_mail,_ring_mail,_mail,_chain_armor,_chain_armour,_ring_armor,_ring_armour', 'n03000684_chain_saw,_chainsaw', 'n03014705_chest', 'n03016953_chiffonier,_commode', 'n03017168_chime,_bell,_gong', 'n03018349_china_cabinet,_china_closet', 'n03026506_Christmas_stocking', 'n03028079_church,_church_building', 'n03032252_cinema,_movie_theater,_movie_theatre,_movie_house,_picture_palace', 'n03041632_cleaver,_meat_cleaver,_chopper', 'n03042490_cliff_dwelling', 'n03045698_cloak', 'n03047690_clog,_geta,_patten,_sabot', 'n03062245_cocktail_shaker', 'n03063599_coffee_mug', 'n03063689_coffeepot', 'n03065424_coil,_spiral,_volute,_whorl,_helix', 'n03075370_combination_lock', 'n03085013_computer_keyboard,_keypad', 'n03089624_confectionery,_confectionary,_candy_store', 'n03095699_container_ship,_containership,_container_vessel', 'n03100240_convertible', 'n03109150_corkscrew,_bottle_screw', 'n03110669_cornet,_horn,_trumpet,_trump', 'n03124043_cowboy_boot', 'n03124170_cowboy_hat,_ten-gallon_hat', 'n03125729_cradle', 'n03126707_crane', 'n03127747_crash_helmet', 'n03127925_crate', 'n03131574_crib,_cot', 'n03133878_Crock_Pot', 'n03134739_croquet_ball', 'n03141823_crutch', 'n03146219_cuirass', 'n03160309_dam,_dike,_dyke', 'n03179701_desk', 'n03180011_desktop_computer', 'n03187595_dial_telephone,_dial_phone', 'n03188531_diaper,_nappy,_napkin', 'n03196217_digital_clock', 'n03197337_digital_watch', 'n03201208_dining_table,_board', 'n03207743_dishrag,_dishcloth', 'n03207941_dishwasher,_dish_washer,_dishwashing_machine', 'n03208938_disk_brake,_disc_brake', 'n03216828_dock,_dockage,_docking_facility', 'n03218198_dogsled,_dog_sled,_dog_sleigh', 'n03220513_dome', 'n03223299_doormat,_welcome_mat', 'n03240683_drilling_platform,_offshore_rig', 'n03249569_drum,_membranophone,_tympan', 'n03250847_drumstick', 'n03255030_dumbbell', 'n03259280_Dutch_oven', 'n03271574_electric_fan,_blower', 'n03272010_electric_guitar', 'n03272562_electric_locomotive', 'n03290653_entertainment_center', 'n03291819_envelope', 'n03297495_espresso_maker', 'n03314780_face_powder', 'n03325584_feather_boa,_boa', 'n03337140_file,_file_cabinet,_filing_cabinet', 'n03344393_fireboat', 'n03345487_fire_engine,_fire_truck', 'n03347037_fire_screen,_fireguard', 'n03355925_flagpole,_flagstaff', 'n03372029_flute,_transverse_flute', 'n03376595_folding_chair', 'n03379051_football_helmet', 'n03384352_forklift', 'n03388043_fountain', 'n03388183_fountain_pen', 'n03388549_four-poster', 'n03393912_freight_car', 'n03394916_French_horn,_horn', 'n03400231_frying_pan,_frypan,_skillet', 'n03404251_fur_coat', 'n03417042_garbage_truck,_dustcart', 'n03424325_gasmask,_respirator,_gas_helmet', 'n03425413_gas_pump,_gasoline_pump,_petrol_pump,_island_dispenser', 'n03443371_goblet', 'n03444034_go-kart', 'n03445777_golf_ball', 'n03445924_golfcart,_golf_cart', 'n03447447_gondola', 'n03447721_gong,_tam-tam', 'n03450230_gown', 'n03452741_grand_piano,_grand', 'n03457902_greenhouse,_nursery,_glasshouse', 'n03459775_grille,_radiator_grille', 'n03461385_grocery_store,_grocery,_food_market,_market', 'n03467068_guillotine', 'n03476684_hair_slide', 'n03476991_hair_spray', 'n03478589_half_track', 'n03481172_hammer', 'n03482405_hamper', 'n03483316_hand_blower,_blow_dryer,_blow_drier,_hair_dryer,_hair_drier', 'n03485407_hand-held_computer,_hand-held_microcomputer', 'n03485794_handkerchief,_hankie,_hanky,_hankey', 'n03492542_hard_disc,_hard_disk,_fixed_disk', 'n03494278_harmonica,_mouth_organ,_harp,_mouth_harp', 'n03495258_harp', 'n03496892_harvester,_reaper', 'n03498962_hatchet', 'n03527444_holster', 'n03529860_home_theater,_home_theatre', 'n03530642_honeycomb', 'n03532672_hook,_claw', 'n03534580_hoopskirt,_crinoline', 'n03535780_horizontal_bar,_high_bar', 'n03538406_horse_cart,_horse-cart', 'n03544143_hourglass', 'n03584254_iPod', 'n03584829_iron,_smoothing_iron', \"n03590841_jack-o'-lantern\", 'n03594734_jean,_blue_jean,_denim', 'n03594945_jeep,_landrover', 'n03595614_jersey,_T-shirt,_tee_shirt', 'n03598930_jigsaw_puzzle', 'n03599486_jinrikisha,_ricksha,_rickshaw', 'n03602883_joystick', 'n03617480_kimono', 'n03623198_knee_pad', 'n03627232_knot', 'n03630383_lab_coat,_laboratory_coat', 'n03633091_ladle', 'n03637318_lampshade,_lamp_shade', 'n03642806_laptop,_laptop_computer', 'n03649909_lawn_mower,_mower', 'n03657121_lens_cap,_lens_cover', 'n03658185_letter_opener,_paper_knife,_paperknife', 'n03661043_library', 'n03662601_lifeboat', 'n03666591_lighter,_light,_igniter,_ignitor', 'n03670208_limousine,_limo', 'n03673027_liner,_ocean_liner', 'n03676483_lipstick,_lip_rouge', 'n03680355_Loafer', 'n03690938_lotion', 'n03691459_loudspeaker,_speaker,_speaker_unit,_loudspeaker_system,_speaker_system', \"n03692522_loupe,_jeweler's_loupe\", 'n03697007_lumbermill,_sawmill', 'n03706229_magnetic_compass', 'n03709823_mailbag,_postbag', 'n03710193_mailbox,_letter_box', 'n03710637_maillot', 'n03710721_maillot,_tank_suit', 'n03717622_manhole_cover', 'n03720891_maraca', 'n03721384_marimba,_xylophone', 'n03724870_mask', 'n03729826_matchstick', 'n03733131_maypole', 'n03733281_maze,_labyrinth', 'n03733805_measuring_cup', 'n03742115_medicine_chest,_medicine_cabinet', 'n03743016_megalith,_megalithic_structure', 'n03759954_microphone,_mike', 'n03761084_microwave,_microwave_oven', 'n03763968_military_uniform', 'n03764736_milk_can', 'n03769881_minibus', 'n03770439_miniskirt,_mini', 'n03770679_minivan', 'n03773504_missile', 'n03775071_mitten', 'n03775546_mixing_bowl', 'n03776460_mobile_home,_manufactured_home', 'n03777568_Model_T', 'n03777754_modem', 'n03781244_monastery', 'n03782006_monitor', 'n03785016_moped', 'n03786901_mortar', 'n03787032_mortarboard', 'n03788195_mosque', 'n03788365_mosquito_net', 'n03791053_motor_scooter,_scooter', 'n03792782_mountain_bike,_all-terrain_bike,_off-roader', 'n03792972_mountain_tent', 'n03793489_mouse,_computer_mouse', 'n03794056_mousetrap', 'n03796401_moving_van', 'n03803284_muzzle', 'n03804744_nail', 'n03814639_neck_brace', 'n03814906_necklace', 'n03825788_nipple', 'n03832673_notebook,_notebook_computer', 'n03837869_obelisk', 'n03838899_oboe,_hautboy,_hautbois', 'n03840681_ocarina,_sweet_potato', 'n03841143_odometer,_hodometer,_mileometer,_milometer', 'n03843555_oil_filter', 'n03854065_organ,_pipe_organ', 'n03857828_oscilloscope,_scope,_cathode-ray_oscilloscope,_CRO', 'n03866082_overskirt', 'n03868242_oxcart', 'n03868863_oxygen_mask', 'n03871628_packet', 'n03873416_paddle,_boat_paddle', 'n03874293_paddlewheel,_paddle_wheel', 'n03874599_padlock', 'n03876231_paintbrush', \"n03877472_pajama,_pyjama,_pj's,_jammies\", 'n03877845_palace', 'n03884397_panpipe,_pandean_pipe,_syrinx', 'n03887697_paper_towel', 'n03888257_parachute,_chute', 'n03888605_parallel_bars,_bars', 'n03891251_park_bench', 'n03891332_parking_meter', 'n03895866_passenger_car,_coach,_carriage', 'n03899768_patio,_terrace', 'n03902125_pay-phone,_pay-station', 'n03903868_pedestal,_plinth,_footstall', 'n03908618_pencil_box,_pencil_case', 'n03908714_pencil_sharpener', 'n03916031_perfume,_essence', 'n03920288_Petri_dish', 'n03924679_photocopier', 'n03929660_pick,_plectrum,_plectron', 'n03929855_pickelhaube', 'n03930313_picket_fence,_paling', 'n03930630_pickup,_pickup_truck', 'n03933933_pier', 'n03935335_piggy_bank,_penny_bank', 'n03937543_pill_bottle', 'n03938244_pillow', 'n03942813_ping-pong_ball', 'n03944341_pinwheel', 'n03947888_pirate,_pirate_ship', 'n03950228_pitcher,_ewer', \"n03954731_plane,_carpenter's_plane,_woodworking_plane\", 'n03956157_planetarium', 'n03958227_plastic_bag', 'n03961711_plate_rack', 'n03967562_plow,_plough', \"n03970156_plunger,_plumber's_helper\", 'n03976467_Polaroid_camera,_Polaroid_Land_camera', 'n03976657_pole', 'n03977966_police_van,_police_wagon,_paddy_wagon,_patrol_wagon,_wagon,_black_Maria', 'n03980874_poncho', 'n03982430_pool_table,_billiard_table,_snooker_table', 'n03983396_pop_bottle,_soda_bottle', 'n03991062_pot,_flowerpot', \"n03992509_potter's_wheel\", 'n03995372_power_drill', 'n03998194_prayer_rug,_prayer_mat', 'n04004767_printer', 'n04005630_prison,_prison_house', 'n04008634_projectile,_missile', 'n04009552_projector', 'n04019541_puck,_hockey_puck', 'n04023962_punching_bag,_punch_bag,_punching_ball,_punchball', 'n04026417_purse', 'n04033901_quill,_quill_pen', 'n04033995_quilt,_comforter,_comfort,_puff', 'n04037443_racer,_race_car,_racing_car', 'n04039381_racket,_racquet', 'n04040759_radiator', 'n04041544_radio,_wireless', 'n04044716_radio_telescope,_radio_reflector', 'n04049303_rain_barrel', 'n04065272_recreational_vehicle,_RV,_R.V.', 'n04067472_reel', 'n04069434_reflex_camera', 'n04070727_refrigerator,_icebox', 'n04074963_remote_control,_remote', 'n04081281_restaurant,_eating_house,_eating_place,_eatery', 'n04086273_revolver,_six-gun,_six-shooter', 'n04090263_rifle', 'n04099969_rocking_chair,_rocker', 'n04111531_rotisserie', 'n04116512_rubber_eraser,_rubber,_pencil_eraser', 'n04118538_rugby_ball', 'n04118776_rule,_ruler', 'n04120489_running_shoe', 'n04125021_safe', 'n04127249_safety_pin', 'n04131690_saltshaker,_salt_shaker', 'n04133789_sandal', 'n04136333_sarong', 'n04141076_sax,_saxophone', 'n04141327_scabbard', 'n04141975_scale,_weighing_machine', 'n04146614_school_bus', 'n04147183_schooner', 'n04149813_scoreboard', 'n04152593_screen,_CRT_screen', 'n04153751_screw', 'n04154565_screwdriver', 'n04162706_seat_belt,_seatbelt', 'n04179913_sewing_machine', 'n04192698_shield,_buckler', 'n04200800_shoe_shop,_shoe-shop,_shoe_store', 'n04201297_shoji', 'n04204238_shopping_basket', 'n04204347_shopping_cart', 'n04208210_shovel', 'n04209133_shower_cap', 'n04209239_shower_curtain', 'n04228054_ski', 'n04229816_ski_mask', 'n04235860_sleeping_bag', 'n04238763_slide_rule,_slipstick', 'n04239074_sliding_door', 'n04243546_slot,_one-armed_bandit', 'n04251144_snorkel', 'n04252077_snowmobile', 'n04252225_snowplow,_snowplough', 'n04254120_soap_dispenser', 'n04254680_soccer_ball', 'n04254777_sock', 'n04258138_solar_dish,_solar_collector,_solar_furnace', 'n04259630_sombrero', 'n04263257_soup_bowl', 'n04264628_space_bar', 'n04265275_space_heater', 'n04266014_space_shuttle', 'n04270147_spatula', 'n04273569_speedboat', \"n04275548_spider_web,_spider's_web\", 'n04277352_spindle', 'n04285008_sports_car,_sport_car', 'n04286575_spotlight,_spot', 'n04296562_stage', 'n04310018_steam_locomotive', 'n04311004_steel_arch_bridge', 'n04311174_steel_drum', 'n04317175_stethoscope', 'n04325704_stole', 'n04326547_stone_wall', 'n04328186_stopwatch,_stop_watch', 'n04330267_stove', 'n04332243_strainer', 'n04335435_streetcar,_tram,_tramcar,_trolley,_trolley_car', 'n04336792_stretcher', 'n04344873_studio_couch,_day_bed', 'n04346328_stupa,_tope', 'n04347754_submarine,_pigboat,_sub,_U-boat', 'n04350905_suit,_suit_of_clothes', 'n04355338_sundial', 'n04355933_sunglass', 'n04356056_sunglasses,_dark_glasses,_shades', 'n04357314_sunscreen,_sunblock,_sun_blocker', 'n04366367_suspension_bridge', 'n04367480_swab,_swob,_mop', 'n04370456_sweatshirt', 'n04371430_swimming_trunks,_bathing_trunks', 'n04371774_swing', 'n04372370_switch,_electric_switch,_electrical_switch', 'n04376876_syringe', 'n04380533_table_lamp', 'n04389033_tank,_army_tank,_armored_combat_vehicle,_armoured_combat_vehicle', 'n04392985_tape_player', 'n04398044_teapot', 'n04399382_teddy,_teddy_bear', 'n04404412_television,_television_system', 'n04409515_tennis_ball', 'n04417672_thatch,_thatched_roof', 'n04418357_theater_curtain,_theatre_curtain', 'n04423845_thimble', 'n04428191_thresher,_thrasher,_threshing_machine', 'n04429376_throne', 'n04435653_tile_roof', 'n04442312_toaster', 'n04443257_tobacco_shop,_tobacconist_shop,_tobacconist', 'n04447861_toilet_seat', 'n04456115_torch', 'n04458633_totem_pole', 'n04461696_tow_truck,_tow_car,_wrecker', 'n04462240_toyshop', 'n04465501_tractor', 'n04467665_trailer_truck,_tractor_trailer,_trucking_rig,_rig,_articulated_lorry,_semi', 'n04476259_tray', 'n04479046_trench_coat', 'n04482393_tricycle,_trike,_velocipede', 'n04483307_trimaran', 'n04485082_tripod', 'n04486054_triumphal_arch', 'n04487081_trolleybus,_trolley_coach,_trackless_trolley', 'n04487394_trombone', 'n04493381_tub,_vat', 'n04501370_turnstile', 'n04505470_typewriter_keyboard', 'n04507155_umbrella', 'n04509417_unicycle,_monocycle', 'n04515003_upright,_upright_piano', 'n04517823_vacuum,_vacuum_cleaner', 'n04522168_vase', 'n04523525_vault', 'n04525038_velvet', 'n04525305_vending_machine', 'n04532106_vestment', 'n04532670_viaduct', 'n04536866_violin,_fiddle', 'n04540053_volleyball', 'n04542943_waffle_iron', 'n04548280_wall_clock', 'n04548362_wallet,_billfold,_notecase,_pocketbook', 'n04550184_wardrobe,_closet,_press', 'n04552348_warplane,_military_plane', 'n04553703_washbasin,_handbasin,_washbowl,_lavabo,_wash-hand_basin', 'n04554684_washer,_automatic_washer,_washing_machine', 'n04557648_water_bottle', 'n04560804_water_jug', 'n04562935_water_tower', 'n04579145_whiskey_jug', 'n04579432_whistle', 'n04584207_wig', 'n04589890_window_screen', 'n04590129_window_shade', 'n04591157_Windsor_tie', 'n04591713_wine_bottle', 'n04592741_wing', 'n04596742_wok', 'n04597913_wooden_spoon', 'n04599235_wool,_woolen,_woollen', 'n04604644_worm_fence,_snake_fence,_snake-rail_fence,_Virginia_fence', 'n04606251_wreck', 'n04612504_yawl', 'n04613696_yurt', 'n06359193_web_site,_website,_internet_site,_site', 'n06596364_comic_book', 'n06785654_crossword_puzzle,_crossword', 'n06794110_street_sign', 'n06874185_traffic_light,_traffic_signal,_stoplight', 'n07248320_book_jacket,_dust_cover,_dust_jacket,_dust_wrapper', 'n07565083_menu', 'n07579787_plate', 'n07583066_guacamole', 'n07584110_consomme', 'n07590611_hot_pot,_hotpot', 'n07613480_trifle', 'n07614500_ice_cream,_icecream', 'n07615774_ice_lolly,_lolly,_lollipop,_popsicle', 'n07684084_French_loaf', 'n07693725_bagel,_beigel', 'n07695742_pretzel', 'n07697313_cheeseburger', 'n07697537_hotdog,_hot_dog,_red_hot', 'n07711569_mashed_potato', 'n07714571_head_cabbage', 'n07714990_broccoli', 'n07715103_cauliflower', 'n07716358_zucchini,_courgette', 'n07716906_spaghetti_squash', 'n07717410_acorn_squash', 'n07717556_butternut_squash', 'n07718472_cucumber,_cuke', 'n07718747_artichoke,_globe_artichoke', 'n07720875_bell_pepper', 'n07730033_cardoon', 'n07734744_mushroom', 'n07742313_Granny_Smith', 'n07745940_strawberry', 'n07747607_orange', 'n07749582_lemon', 'n07753113_fig', 'n07753275_pineapple,_ananas', 'n07753592_banana', 'n07754684_jackfruit,_jak,_jack', 'n07760859_custard_apple', 'n07768694_pomegranate', 'n07802026_hay', 'n07831146_carbonara', 'n07836838_chocolate_sauce,_chocolate_syrup', 'n07860988_dough', 'n07871810_meat_loaf,_meatloaf', 'n07873807_pizza,_pizza_pie', 'n07875152_potpie', 'n07880968_burrito', 'n07892512_red_wine', 'n07920052_espresso', 'n07930864_cup', 'n07932039_eggnog', 'n09193705_alp', 'n09229709_bubble', 'n09246464_cliff,_drop,_drop-off', 'n09256479_coral_reef', 'n09288635_geyser', 'n09332890_lakeside,_lakeshore', 'n09399592_promontory,_headland,_head,_foreland', 'n09421951_sandbar,_sand_bar', 'n09428293_seashore,_coast,_seacoast,_sea-coast', 'n09468604_valley,_vale', 'n09472597_volcano', 'n09835506_ballplayer,_baseball_player', 'n10148035_groom,_bridegroom', 'n10565667_scuba_diver', 'n11879895_rapeseed', 'n11939491_daisy', \"n12057211_yellow_lady's_slipper,_yellow_lady-slipper,_Cypripedium_calceolus,_Cypripedium_parviflorum\", 'n12144580_corn', 'n12267677_acorn', 'n12620546_hip,_rose_hip,_rosehip', 'n12768682_buckeye,_horse_chestnut,_conker', 'n12985857_coral_fungus', 'n12998815_agaric', 'n13037406_gyromitra', 'n13040303_stinkhorn,_carrion_fungus', 'n13044778_earthstar', 'n13052670_hen-of-the-woods,_hen_of_the_woods,_Polyporus_frondosus,_Grifola_frondosa', 'n13054560_bolete', 'n13133613_ear,_spike,_capitulum', 'n15075141_toilet_tissue,_toilet_paper,_bathroom_tissue']\n"
     ]
    }
   ],
   "source": [
    "labels =\"test_model.labels\"\n",
    "if labels:\n",
    "    with open(labels, 'r') as f:\n",
    "        labels_map = [x.split(sep=' ', maxsplit=1)[-1].strip() for x in f]\n",
    "else:\n",
    "    labels_map = None\n",
    "\n",
    "print (labels_map)"
   ]
  },
  {
   "cell_type": "code",
   "execution_count": 17,
   "metadata": {},
   "outputs": [
    {
     "name": "stdout",
     "output_type": "stream",
     "text": [
      "Top 10 results:\n",
      "===============\n",
      "\n",
      "n02106662_German_shepherd,_German_shepherd_dog,_German_police_dog,_alsatian \t\t tensor(14.0807, grad_fn=<SelectBackward>) tensor(235)\n",
      "n02105162_malinois \t\t tensor(11.5884, grad_fn=<SelectBackward>) tensor(225)\n",
      "n02111129_Leonberg \t\t tensor(11.1329, grad_fn=<SelectBackward>) tensor(255)\n",
      "n02116738_African_hunting_dog,_hyena_dog,_Cape_hunting_dog,_Lycaon_pictus \t\t tensor(9.3868, grad_fn=<SelectBackward>) tensor(275)\n",
      "n02088094_Afghan_hound,_Afghan \t\t tensor(8.8371, grad_fn=<SelectBackward>) tensor(160)\n",
      "n02091467_Norwegian_elkhound,_elkhound \t\t tensor(8.8061, grad_fn=<SelectBackward>) tensor(174)\n",
      "n02105056_groenendael \t\t tensor(8.4025, grad_fn=<SelectBackward>) tensor(224)\n",
      "n02108551_Tibetan_mastiff \t\t tensor(7.9561, grad_fn=<SelectBackward>) tensor(244)\n",
      "n02090721_Irish_wolfhound \t\t tensor(7.9554, grad_fn=<SelectBackward>) tensor(170)\n",
      "n02105412_kelpie \t\t tensor(7.9356, grad_fn=<SelectBackward>) tensor(227)\n"
     ]
    }
   ],
   "source": [
    "print(\"Top {} results:\\n===============\\n\".format(number_top))\n",
    "for i, probs in enumerate(res50):\n",
    "    if (i<number_top):\n",
    "        print( labels_map[indices[i]], \"\\t\\t\", values[i], indices[i])"
   ]
  },
  {
   "cell_type": "markdown",
   "metadata": {},
   "source": [
    "# Convert PyTorch to ONNX"
   ]
  },
  {
   "cell_type": "code",
   "execution_count": 18,
   "metadata": {},
   "outputs": [
    {
     "name": "stdout",
     "output_type": "stream",
     "text": [
      "Collecting onnxruntime\n",
      "  Using cached https://files.pythonhosted.org/packages/e6/97/39c630134268a29a7c26f5f1c8fd2f7ff089ccee567cb076087ddf1cb6e0/onnxruntime-0.1.4-cp35-cp35m-manylinux1_x86_64.whl\n",
      "Installing collected packages: onnxruntime\n",
      "Successfully installed onnxruntime-0.1.2\n",
      "\u001b[33mYou are using pip version 8.1.1, however version 19.0.1 is available.\n",
      "You should consider upgrading via the 'pip install --upgrade pip' command.\u001b[0m\n",
      "Collecting onnxruntime-gpu\n",
      "  Using cached https://files.pythonhosted.org/packages/17/cb/0def5a44db45c6d38d95387f20057905ce2dd4fad35c0d43ee4b1cebbb19/onnxruntime_gpu-0.1.3-cp35-cp35m-manylinux1_x86_64.whl\n",
      "Installing collected packages: onnxruntime-gpu\n",
      "Successfully installed onnxruntime-gpu-0.1.3\n",
      "\u001b[33mYou are using pip version 8.1.1, however version 19.0.1 is available.\n",
      "You should consider upgrading via the 'pip install --upgrade pip' command.\u001b[0m\n"
     ]
    }
   ],
   "source": [
    "!pip3 install onnxruntime\n",
    "!pip3 install onnxruntime-gpu"
   ]
  },
  {
   "cell_type": "code",
   "execution_count": 19,
   "metadata": {},
   "outputs": [
    {
     "data": {
      "text/plain": [
       "tensor([[ 1.2213e+00, -2.7040e+00, -1.8909e-01, -6.7603e-01, -3.3056e+00,\n",
       "         -1.9360e+00, -5.2987e+00, -8.9872e-01, -4.4930e-02, -3.9703e-01,\n",
       "         -1.4685e+00, -2.2869e+00, -3.0948e+00, -3.4699e+00, -1.9134e+00,\n",
       "         -2.8971e+00,  2.7806e-01, -2.2986e-01, -2.3246e+00, -1.7495e+00,\n",
       "         -3.4520e+00, -2.4936e-01, -3.3083e+00,  3.5076e-01, -2.8486e+00,\n",
       "          4.9069e-01, -1.7008e+00, -1.8001e+00, -1.0999e+00, -1.2797e+00,\n",
       "         -2.8170e+00, -1.7570e+00, -1.0449e+00, -1.6761e+00, -1.7932e-01,\n",
       "         -2.4822e+00, -2.2645e+00, -2.3596e+00, -1.2436e+00, -2.1854e+00,\n",
       "         -8.6019e-01, -2.0205e+00, -3.6509e+00, -1.6989e+00, -7.4498e-01,\n",
       "         -1.4624e-01, -2.6636e+00, -7.3598e-01, -4.0440e+00, -1.6583e+00,\n",
       "         -1.0470e+00,  3.8976e-01,  2.1675e-01, -1.8390e+00, -6.5013e-01,\n",
       "         -1.3384e+00, -3.0597e+00, -2.1036e+00, -2.3777e+00,  8.4964e-01,\n",
       "          7.4710e-01, -1.4211e-01,  1.0217e+00, -3.8827e-02, -6.4364e-01,\n",
       "         -1.3596e+00, -1.0893e+00, -2.3043e+00, -2.1236e+00, -2.9814e+00,\n",
       "         -1.9350e+00,  4.6209e-01, -2.6902e+00, -1.1941e+00, -2.4474e+00,\n",
       "         -2.6072e+00, -1.6807e+00, -2.0635e+00,  2.0733e+00, -3.6366e-01,\n",
       "         -5.3031e-01, -5.0626e+00, -1.1013e+00,  1.3263e+00, -1.8138e+00,\n",
       "         -1.5858e+00, -4.6546e-01, -1.0817e+00, -2.9191e+00, -2.7353e+00,\n",
       "         -1.5101e+00, -5.2814e-01, -2.5616e+00, -8.5849e-01, -3.5511e-01,\n",
       "         -8.7368e-01, -3.0586e+00, -9.5419e-01, -1.5234e-01,  2.5109e+00,\n",
       "          8.4910e-01,  1.4482e+00, -1.5365e+00,  1.1369e+00,  2.6517e+00,\n",
       "         -1.5229e+00, -1.9798e-01, -3.0202e+00, -3.9086e+00, -2.7582e+00,\n",
       "         -3.7491e+00, -1.1204e-01, -2.1572e+00, -1.5181e+00, -8.0954e-01,\n",
       "         -3.7829e+00, -1.0645e+00, -2.8223e+00,  2.1380e-02, -2.2956e+00,\n",
       "         -2.5275e+00, -6.3085e-01,  9.1175e-01, -1.9366e+00, -1.7865e+00,\n",
       "         -3.3836e+00, -1.5291e+00, -3.5966e+00, -2.5798e+00, -2.9763e+00,\n",
       "         -2.2051e+00, -3.4434e+00, -4.7561e+00, -2.0482e+00, -1.5510e+00,\n",
       "         -2.4801e+00,  1.0623e+00, -8.8845e-01, -3.4669e+00, -2.0428e+00,\n",
       "         -4.0381e+00, -4.4188e+00, -1.1708e+00, -1.8754e+00, -2.7114e+00,\n",
       "         -8.1563e-01, -5.7798e-01,  9.5688e-02, -8.0046e-01, -3.1081e+00,\n",
       "         -2.7490e-01,  2.2478e+00,  1.7329e+00, -3.4915e+00,  2.5289e+00,\n",
       "         -1.0561e+00, -6.7868e-01,  4.1817e+00,  2.8149e+00,  4.5881e+00,\n",
       "          8.4319e+00,  1.2578e+00,  8.9633e-01,  6.1129e+00,  3.5373e+00,\n",
       "          3.7725e+00,  1.6316e+00,  5.1389e+00,  2.7772e+00,  9.1024e+00,\n",
       "          6.5230e+00,  2.3912e-01,  4.1101e+00,  4.1086e+00,  8.6065e+00,\n",
       "          5.9926e+00,  5.8968e+00,  4.7033e+00,  1.2367e+00,  1.1674e+00,\n",
       "          1.9012e+00,  1.4582e+00,  3.6760e+00,  2.1944e+00,  2.1339e+00,\n",
       "          2.6938e+00,  3.6247e+00,  1.4585e+00,  3.4450e+00,  2.7303e+00,\n",
       "          6.9379e-01,  4.2051e+00,  2.9988e+00,  4.9800e+00,  3.3972e+00,\n",
       "          1.6346e+00,  6.9114e-01,  3.2233e+00,  2.9175e+00,  2.7400e+00,\n",
       "          3.8523e+00,  1.8673e+00,  2.8290e+00, -3.3129e+00,  7.2369e-01,\n",
       "          8.2346e+00,  6.3948e+00,  5.2766e+00,  4.3064e+00,  4.0684e+00,\n",
       "          2.3771e+00,  1.0280e+00,  2.1720e+00,  3.4385e+00,  4.6139e+00,\n",
       "          2.2950e+00,  4.6500e+00,  1.7769e-01,  2.1431e+00,  6.7124e-01,\n",
       "          5.0870e+00,  2.3965e+00,  6.5377e+00,  4.0635e+00,  9.9024e+00,\n",
       "          1.2722e+01,  7.1116e+00,  9.3463e+00,  1.9358e+00,  2.4478e+00,\n",
       "          4.0319e+00,  8.3771e+00,  7.7596e+00,  3.7935e+00,  3.9593e+00,\n",
       "          1.6470e+01,  5.2242e+00, -1.1172e-01,  2.2178e+00,  3.8390e+00,\n",
       "          5.7186e+00,  3.3667e+00,  1.2774e+00,  3.5770e+00,  7.0858e+00,\n",
       "         -8.4500e-01,  5.3934e+00,  7.3667e+00,  4.3477e+00,  5.5134e+00,\n",
       "          3.0360e+00,  5.5173e-01,  1.3720e+00,  1.4909e+00,  8.6417e-01,\n",
       "          1.1677e+01,  6.1369e+00,  4.5586e+00,  1.4215e+00,  1.0492e+00,\n",
       "          2.2853e+00,  6.5527e+00,  3.9003e+00,  5.3048e+00,  7.5504e+00,\n",
       "         -1.6114e+00,  4.1562e-01,  2.9073e+00,  3.6228e+00,  3.6766e+00,\n",
       "          2.4681e+00,  4.3998e+00,  2.3044e+00,  4.6069e+00,  4.4797e+00,\n",
       "          7.6662e+00,  2.7339e+00,  1.7019e+00,  2.5404e+00, -4.4531e-01,\n",
       "          2.6247e+00,  1.3605e+00,  7.6402e-01, -9.9110e-01,  1.9530e+00,\n",
       "          1.7559e-01, -1.4556e+00, -2.4947e+00, -7.5649e-01, -2.4470e+00,\n",
       "         -2.2374e+00,  1.5274e+00,  7.3851e-01, -9.4044e-01,  1.3767e+00,\n",
       "          6.6202e-01, -2.5426e-01,  2.0855e-01, -2.7747e+00, -2.3503e+00,\n",
       "         -1.9258e+00, -2.6389e+00, -1.5938e+00, -1.9656e+00, -1.5542e+00,\n",
       "         -1.9987e+00, -6.8815e-01, -8.8445e-01, -3.2128e-01,  1.6790e+00,\n",
       "         -1.3258e+00, -3.8375e-01, -5.1745e-01, -1.7317e+00, -3.9929e-01,\n",
       "         -1.6857e+00, -2.3835e+00, -1.4706e+00, -1.0237e+00, -2.2698e+00,\n",
       "         -4.2040e+00, -2.0614e+00, -2.2207e+00, -1.1316e+00, -4.2979e+00,\n",
       "         -1.7769e+00, -1.7020e+00, -5.8681e-01, -1.9775e+00, -2.3290e+00,\n",
       "         -7.1801e-02,  2.0984e+00,  1.1595e+00, -1.9396e+00, -1.3114e+00,\n",
       "         -1.3361e+00, -3.0861e+00, -1.0389e+00, -7.4112e-01,  1.1928e+00,\n",
       "          1.6432e-01,  2.5449e+00,  1.7348e+00, -7.7770e-01, -2.3668e+00,\n",
       "          1.6514e+00,  2.2704e+00, -9.0427e-01,  1.2872e+00, -8.1929e-01,\n",
       "         -3.0971e-01,  5.6742e-02,  2.1025e-01,  2.9093e-01,  5.4081e-01,\n",
       "          4.0646e+00,  7.3309e-01, -5.7690e-01,  1.0363e+00,  1.1783e+00,\n",
       "         -1.8409e+00,  2.1096e+00,  1.7688e+00, -8.6950e-01, -1.1571e+00,\n",
       "         -2.1113e+00, -1.5878e+00, -1.0627e+00,  1.9189e+00,  1.4905e-01,\n",
       "          1.7066e-03,  3.6507e-01,  7.0745e-01,  2.9747e-01, -1.9312e+00,\n",
       "         -1.5724e+00, -2.8998e+00, -2.0345e+00,  3.6579e-01, -8.6345e-02,\n",
       "         -1.3862e+00,  5.5721e-01, -1.9673e+00, -1.0574e+00,  1.5134e+00,\n",
       "          1.6145e-01, -1.3329e+00, -2.3199e+00, -1.9076e+00,  1.1699e+00,\n",
       "         -5.4138e-01, -7.8636e-01, -1.0631e+00, -3.7970e+00, -4.4138e-01,\n",
       "         -9.3779e-02, -3.8590e+00, -3.6965e+00,  8.5270e-01, -1.4408e+00,\n",
       "          2.2155e-01, -2.6407e-01, -1.6753e+00, -9.5476e-01, -1.6431e+00,\n",
       "         -1.2466e+00, -2.3914e+00, -5.7610e-01,  1.5784e+00, -1.5980e+00,\n",
       "          2.1445e-01, -1.9311e+00,  3.2412e+00,  1.3736e+00, -2.4992e+00,\n",
       "         -1.7880e+00,  9.3125e-01,  2.2659e+00, -4.5466e-01, -1.5661e+00,\n",
       "         -6.1335e-01, -2.8670e-01, -1.8083e-01, -1.4990e+00, -3.3626e+00,\n",
       "         -1.9517e+00, -1.3233e+00,  2.5260e+00,  3.5687e+00,  5.2321e+00,\n",
       "          1.3187e+00,  9.9182e-02, -1.7200e+00, -8.1549e-01,  4.8645e-01,\n",
       "         -2.6116e-01, -1.9977e+00, -6.6822e-01, -1.0182e-01,  2.4583e+00,\n",
       "         -3.1382e-01, -1.7624e+00, -1.3487e+00, -1.8054e+00, -6.6505e-01,\n",
       "         -1.8155e+00,  8.9214e-01,  7.6847e-01, -3.1999e-01, -2.6988e-02,\n",
       "         -8.7919e-01,  1.4669e+00, -2.0656e+00, -1.6076e+00, -1.2639e+00,\n",
       "         -1.8057e+00,  3.0756e+00, -1.7541e+00, -1.0833e+00, -6.7890e-01,\n",
       "         -2.2958e+00,  7.0737e-01,  1.5326e-01,  2.6240e+00,  1.3259e+00,\n",
       "          6.2798e+00, -2.4175e+00, -9.4826e-01, -3.9612e-01,  2.1139e+00,\n",
       "         -1.6127e+00, -4.9297e-02,  1.2785e+00, -1.2256e+00, -1.1084e+00,\n",
       "         -1.8374e+00, -1.0375e+00,  1.1858e+00, -1.4285e+00,  1.7348e-01,\n",
       "         -4.7323e-01, -2.0159e+00, -7.2498e-01,  3.5140e-01, -1.1728e+00,\n",
       "         -2.1329e+00, -2.7234e+00, -3.5436e-02,  2.0281e+00, -1.3057e+00,\n",
       "          2.1035e+00,  1.3489e+00,  8.1181e-01, -1.5268e+00,  3.2024e-01,\n",
       "         -2.9879e+00, -1.2409e+00, -2.5019e+00, -4.0710e+00,  3.4003e+00,\n",
       "         -3.5903e+00, -1.3632e+00,  3.0311e+00,  4.1342e-01,  4.1703e-01,\n",
       "         -9.1469e-01,  6.5432e-01,  3.7968e+00, -4.1903e-01, -8.1669e-01,\n",
       "          3.1759e-01, -5.6567e-01,  2.7890e+00,  4.5502e-01,  2.3524e+00,\n",
       "          5.2367e-01,  3.7614e-01, -4.9118e-01,  4.7052e-01, -1.8607e-01,\n",
       "         -2.1991e+00, -1.2362e+00,  7.6813e+00,  6.6327e-01,  8.2302e-01,\n",
       "         -3.4000e-01, -1.9445e+00, -1.4803e+00, -2.8837e+00, -2.2960e-01,\n",
       "         -7.5213e-01, -3.6238e-01, -8.7458e-01, -1.8280e+00,  8.9944e-01,\n",
       "         -3.6658e-01, -2.5474e-01,  2.3414e+00, -1.9549e+00,  2.2700e+00,\n",
       "          3.1133e-02,  1.7830e+00, -3.2156e-01,  1.5954e+00,  1.0460e+00,\n",
       "         -2.2149e+00, -1.6750e-02, -1.8769e+00, -8.6989e-01, -1.1382e+00,\n",
       "         -5.8641e-01,  1.3959e+00, -8.4510e-01, -1.7139e+00, -3.1794e-01,\n",
       "         -1.9149e+00,  9.5291e-01,  2.2208e-01, -1.5952e+00,  1.5883e+00,\n",
       "          1.1427e+00,  1.9710e-01, -1.4089e+00,  9.2269e-01, -3.3830e+00,\n",
       "         -3.6913e+00, -9.5992e-01,  1.8756e+00, -1.7010e+00,  2.1147e-01,\n",
       "         -1.3497e-01, -6.4020e-01, -5.9316e-01,  8.1287e-01,  5.6635e+00,\n",
       "          6.9102e-01,  2.6348e-01, -1.3892e+00, -9.2041e-01, -1.5246e+00,\n",
       "         -2.7064e+00, -2.9828e+00, -6.4947e-01,  7.5456e-01,  8.9678e-01,\n",
       "         -1.1295e+00,  2.1071e+00,  7.6132e-01,  2.6353e+00,  5.2897e-02,\n",
       "          9.2556e-01, -6.8134e-01, -4.9391e+00,  1.0929e-01, -1.1835e+00,\n",
       "          1.6007e+00,  1.3871e+00,  2.4217e+00, -1.2744e+00, -1.4964e-02,\n",
       "          2.5457e+00, -2.7843e-01,  1.1278e+00, -4.0406e-02, -1.0713e+00,\n",
       "         -1.0588e+00, -8.0550e-01, -1.9296e+00, -3.9231e-02, -4.5082e-01,\n",
       "         -4.6659e-01, -1.0597e+00, -1.2908e+00,  1.1928e+00, -2.1549e+00,\n",
       "          1.4627e+00, -7.3057e-01, -2.1008e+00,  6.0171e-01, -2.0636e+00,\n",
       "         -2.3583e-01,  2.2188e+00, -1.5875e+00, -1.9048e-01, -1.1810e+00,\n",
       "         -2.1420e-01, -1.3098e-01, -1.4048e+00, -2.2624e+00,  1.0036e+00,\n",
       "          1.5580e+00,  1.6480e-01, -8.5491e-01,  5.9799e-01, -1.1601e+00,\n",
       "         -6.3470e-01,  3.7613e-01,  2.6257e-03, -1.0403e+00,  1.2821e-01,\n",
       "         -3.7713e+00,  2.8291e+00, -1.2491e-01,  6.5545e-01,  8.9911e-01,\n",
       "         -6.8645e-01,  9.1045e-01,  3.0958e-01, -7.2722e-01, -1.1338e+00,\n",
       "         -1.3690e+00, -1.3015e+00, -3.5449e-01,  3.5610e-01, -9.0876e-01,\n",
       "         -4.3207e-01, -1.5328e+00,  2.8523e-01, -1.0943e+00,  6.8483e-01,\n",
       "         -3.0422e-01,  4.8994e-01, -8.5534e-01, -2.8018e+00, -1.0675e+00,\n",
       "         -2.3242e-01,  8.9927e-01,  1.6860e+00, -3.0803e+00, -3.7934e+00,\n",
       "         -2.3949e-01, -1.7906e+00, -1.7036e-01,  7.2368e-01, -3.9725e-01,\n",
       "         -1.6525e+00,  7.0819e+00,  1.2674e+00,  7.5911e-01, -1.3874e+00,\n",
       "          1.6681e+00, -1.1562e+00, -1.5527e+00,  1.4869e-02,  1.4452e+00,\n",
       "         -2.1230e+00, -1.0745e+00, -2.6478e+00, -2.7313e-01, -5.9503e-01,\n",
       "          5.4824e-01,  8.9764e-01, -3.8003e-01,  1.9922e+00, -1.9569e+00,\n",
       "          1.7765e+00,  3.8305e-01, -1.7002e+00, -3.6984e-01,  7.8715e-02,\n",
       "          2.7158e-01,  2.2557e+00,  8.2710e-01,  7.2010e-01, -2.1410e+00,\n",
       "          3.6968e-02, -7.7511e-01, -9.7921e-01,  7.6050e-01, -2.4191e+00,\n",
       "         -8.7306e-02, -4.3550e-01, -2.2364e+00, -1.3714e-01,  1.6994e+00,\n",
       "          1.1869e+00, -2.4516e-01, -6.5928e-01, -1.0735e+00, -1.2845e+00,\n",
       "         -1.1514e+00, -2.7044e+00,  4.4074e+00, -5.6603e-02, -1.4210e+00,\n",
       "         -6.8981e-01,  1.8663e+00, -7.7802e-01,  1.0018e+00, -1.3362e+00,\n",
       "          1.6840e+00,  1.3885e+00, -2.2568e-01,  1.9757e+00, -7.5279e-01,\n",
       "         -9.6955e-01,  3.9808e+00, -1.9992e-01, -4.0485e-01,  9.3771e-01,\n",
       "          6.6305e-01, -1.3246e+00,  1.8170e-01,  1.8425e-01,  2.0906e+00,\n",
       "         -4.1268e+00, -7.1157e-01,  2.2179e+00, -1.9938e+00, -1.9614e+00,\n",
       "          1.0524e+00, -7.6767e-01,  1.2543e+00, -1.6006e+00, -1.9286e+00,\n",
       "         -1.0977e+00,  1.0481e+00, -1.6786e-01,  2.6474e+00, -7.7645e-01,\n",
       "         -3.5003e-01,  7.2103e-01, -2.1551e+00,  2.7738e+00,  1.3363e+00,\n",
       "          1.0710e+00, -4.7642e-01, -5.9297e-01,  4.7670e+00,  4.0545e-01,\n",
       "         -1.0666e+00, -1.2527e+00, -2.6663e-01, -1.1645e+00, -1.1884e+00,\n",
       "         -3.2992e-01,  1.4309e+00,  2.7333e+00, -7.9266e-01, -1.5394e-01,\n",
       "         -1.9200e+00,  1.8371e+00,  5.6765e-02, -1.2845e+00,  8.8651e-01,\n",
       "         -9.8157e-01, -4.9922e-01,  3.3117e+00,  5.6318e-01, -1.0347e+00,\n",
       "          2.8242e+00, -8.2089e-01,  1.6748e+00,  2.9996e-01, -1.6819e+00,\n",
       "         -1.8319e+00,  1.0708e-02,  1.4582e+00, -1.9298e-01, -7.1989e-01,\n",
       "         -2.5561e+00,  1.2366e-02, -1.9374e+00, -2.5888e+00,  1.1186e+00,\n",
       "          5.8839e+00, -7.3810e-01, -1.0588e-01,  8.9614e-01, -1.5213e+00,\n",
       "          1.1586e+00,  8.6604e-01,  3.1158e-01,  8.6927e-01,  6.5674e-01,\n",
       "         -2.2745e+00, -1.7577e+00,  4.4436e-01, -1.7088e-01, -1.6191e+00,\n",
       "         -1.6297e+00, -9.3788e-01,  7.7410e-01, -1.3339e+00,  3.4598e-01,\n",
       "          8.7008e-01,  3.8978e-01,  9.0170e-01,  2.6275e-02,  4.6237e-01,\n",
       "          8.8457e-01, -1.2334e+00, -2.9913e+00,  5.2226e-01, -1.6668e+00,\n",
       "         -2.7458e-01,  1.8111e+00,  1.3379e+00,  4.7836e-01, -3.7604e+00,\n",
       "         -4.7431e-02,  9.6835e-01, -5.4144e-01, -2.2446e-01,  1.2439e+00,\n",
       "         -3.5416e+00, -7.7435e-01,  3.5245e-01, -1.4164e+00, -3.8861e+00,\n",
       "         -2.5220e+00,  1.2283e+00,  7.4718e+00, -8.3053e-01, -1.3785e+00,\n",
       "          5.6771e-01,  2.7490e+00, -5.6119e-01, -2.4323e+00, -1.8332e+00,\n",
       "         -6.9176e-01,  7.5779e-01,  6.4776e-01, -1.9520e+00, -1.4293e+00,\n",
       "         -6.9099e-01,  1.2003e+00, -1.8223e+00, -3.2952e-01,  4.4160e-02,\n",
       "          1.1966e+00, -1.8160e+00, -9.6821e-01, -7.8646e-01, -1.3153e+00,\n",
       "         -9.2220e-01,  8.7105e-01, -7.7373e-01, -2.0250e-01,  6.8480e-01,\n",
       "          2.1997e+00, -5.8566e-01,  2.0812e+00, -8.7012e-01, -3.2660e+00,\n",
       "         -7.3285e-01, -4.1749e-01, -2.2087e+00, -4.4064e-01, -1.3877e+00,\n",
       "         -1.2448e-01, -1.1934e+00, -1.4300e+00, -1.9217e-01, -1.8971e+00,\n",
       "          3.9908e-01, -9.0397e-01, -1.9269e+00,  3.4504e-01,  6.3702e-01,\n",
       "         -3.2984e+00,  9.8086e-01,  1.7109e+00, -3.1557e+00, -1.1218e+00,\n",
       "         -4.3896e+00,  1.7251e-01,  1.7482e-01, -4.2490e-02,  1.6532e-01,\n",
       "          2.7067e-01,  9.2295e-01,  2.5359e+00, -2.4877e+00, -4.2700e-01,\n",
       "         -1.3674e+00,  1.0208e-01, -2.0506e+00, -2.2032e+00, -1.1288e+00,\n",
       "         -1.3984e+00,  9.6055e-01, -3.8936e+00,  9.2919e-02, -1.7257e+00,\n",
       "         -2.5944e+00, -4.7317e-01, -2.5642e+00, -2.9094e+00,  1.0475e+00,\n",
       "         -1.4306e-01, -1.5896e+00,  1.9321e-01, -2.4487e+00, -8.2650e-01,\n",
       "         -1.3307e+00,  1.6197e+00,  9.1421e-01,  8.4135e-01,  1.7346e+00,\n",
       "          1.8668e+00,  6.9287e-01, -2.0342e-01,  2.0080e+00, -6.4565e-01,\n",
       "          7.8031e-01,  4.2805e-01, -7.3057e-02,  5.2117e-01, -1.7998e-01,\n",
       "         -1.7916e-02,  5.2246e-01,  6.3679e-01, -1.5222e+00, -4.6294e-01,\n",
       "          2.5898e-01, -8.3365e-02, -2.2969e+00, -9.4207e-01,  7.1901e-01,\n",
       "         -2.1516e+00, -1.8171e+00, -2.3757e+00, -1.8417e+00, -1.3152e+00,\n",
       "         -2.2415e+00,  3.3611e-01, -1.6839e+00, -8.1945e-01, -1.9093e+00,\n",
       "         -2.4826e+00, -3.3858e-02,  5.6461e-01, -3.0898e+00, -2.8895e+00,\n",
       "          1.3759e+00, -1.9439e+00,  1.6162e-01, -6.9693e-01, -7.7557e-01,\n",
       "         -2.0388e+00,  2.2410e+00, -2.4785e+00, -3.1087e+00,  6.4387e-02,\n",
       "         -8.1934e-01, -2.4625e+00,  1.8584e+00,  3.7598e-01,  1.4223e-01,\n",
       "          8.3787e-01, -2.6947e+00, -1.5962e+00, -1.8305e+00,  7.3149e-02,\n",
       "         -2.4825e-01,  1.5359e+00, -1.9148e+00,  5.1991e-01, -1.6622e+00]],\n",
       "       grad_fn=<AddmmBackward>)"
      ]
     },
     "execution_count": 19,
     "metadata": {},
     "output_type": "execute_result"
    }
   ],
   "source": [
    "torch.onnx._export(net18, x, 'resnet18.onnx', export_params=True)\n",
    "torch.onnx._export(net34, x, 'resnet34.onnx', export_params=True)\n",
    "torch.onnx._export(net50, x, 'resnet50.onnx', export_params=True)\n",
    "torch.onnx._export(net101, x, 'resnet101.onnx', export_params=True)\n",
    "torch.onnx._export(net152, x, 'resnet152.onnx', export_params=True)"
   ]
  },
  {
   "cell_type": "code",
   "execution_count": 20,
   "metadata": {},
   "outputs": [
    {
     "name": "stdout",
     "output_type": "stream",
     "text": [
      "-rw-rw-r-- 1 ngeorgis ngeorgis  45M Jan 27 18:49 resnet18.onnx\r\n",
      "-rw-rw-r-- 1 ngeorgis ngeorgis  84M Jan 27 18:49 resnet34.onnx\r\n",
      "-rw-rw-r-- 1 ngeorgis ngeorgis  99M Jan 27 18:49 resnet50.onnx\r\n",
      "-rw-rw-r-- 1 ngeorgis ngeorgis 172M Jan 27 18:49 resnet101.onnx\r\n",
      "-rw-rw-r-- 1 ngeorgis ngeorgis 233M Jan 27 18:49 resnet152.onnx\r\n"
     ]
    }
   ],
   "source": [
    "!ls -lrSh resnet*.onnx "
   ]
  },
  {
   "cell_type": "markdown",
   "metadata": {},
   "source": [
    "# Install the Intel OpenVino SDK"
   ]
  },
  {
   "cell_type": "markdown",
   "metadata": {},
   "source": [
    "https://software.intel.com/en-us/openvino-toolkit"
   ]
  }
 ],
 "metadata": {
  "kernelspec": {
   "display_name": "Python 3",
   "language": "python",
   "name": "python3"
  },
  "language_info": {
   "codemirror_mode": {
    "name": "ipython",
    "version": 3
   },
   "file_extension": ".py",
   "mimetype": "text/x-python",
   "name": "python",
   "nbconvert_exporter": "python",
   "pygments_lexer": "ipython3",
   "version": "3.5.2"
  }
 },
 "nbformat": 4,
 "nbformat_minor": 2
}
